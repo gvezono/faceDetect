{
 "cells": [
  {
   "cell_type": "code",
   "execution_count": 1,
   "id": "unsigned-smooth",
   "metadata": {},
   "outputs": [],
   "source": [
    "import cv2"
   ]
  },
  {
   "cell_type": "code",
   "execution_count": 5,
   "id": "forbidden-inspection",
   "metadata": {},
   "outputs": [],
   "source": [
    "video = cv2.VideoCapture(0)\n",
    "classificadorFace = cv2.CascadeClassifier('cascades\\\\haarcascade_frontalface_default.xml')"
   ]
  },
  {
   "cell_type": "code",
   "execution_count": 6,
   "id": "collective-track",
   "metadata": {},
   "outputs": [],
   "source": [
    "while True:\n",
    "    conectado, frame = video.read()\n",
    "    frameCinza = cv2.cvtColor(frame, cv2.COLOR_BGR2GRAY)\n",
    "    facesDetectadas = classificadorFace.detectMultiScale(frameCinza)\n",
    "    for(x,y,l,a) in facesDetectadas:\n",
    "        cv2.rectangle(frame, (x,y), (x+l,y+a), (0,0,255), 2)\n",
    "    cv2.imshow('Video', frame)\n",
    "    if cv2.waitKey(1) == ord('q'):\n",
    "        break\n",
    "\n",
    "video.release()\n",
    "cv2.destroyAllWindows()"
   ]
  },
  {
   "cell_type": "code",
   "execution_count": null,
   "id": "accessory-device",
   "metadata": {},
   "outputs": [],
   "source": []
  }
 ],
 "metadata": {
  "kernelspec": {
   "display_name": "Python 3",
   "language": "python",
   "name": "python3"
  },
  "language_info": {
   "codemirror_mode": {
    "name": "ipython",
    "version": 3
   },
   "file_extension": ".py",
   "mimetype": "text/x-python",
   "name": "python",
   "nbconvert_exporter": "python",
   "pygments_lexer": "ipython3",
   "version": "3.7.10"
  }
 },
 "nbformat": 4,
 "nbformat_minor": 5
}
