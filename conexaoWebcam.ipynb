{
 "cells": [
  {
   "cell_type": "code",
   "execution_count": 1,
   "id": "municipal-steel",
   "metadata": {},
   "outputs": [],
   "source": [
    "import cv2"
   ]
  },
  {
   "cell_type": "code",
   "execution_count": 9,
   "id": "registered-november",
   "metadata": {},
   "outputs": [],
   "source": [
    "video = cv2.VideoCapture(0) # '0' pega a webcam padrão do pc"
   ]
  },
  {
   "cell_type": "code",
   "execution_count": 10,
   "id": "technical-chess",
   "metadata": {},
   "outputs": [],
   "source": [
    "while True:\n",
    "    conectado, frame = video.read()\n",
    "    cv2.imshow('Video', frame)\n",
    "    if cv2.waitKey(1) == ord('q'):\n",
    "        break\n",
    "\n",
    "video.release()\n",
    "cv2.destroyAllWindows()"
   ]
  }
 ],
 "metadata": {
  "kernelspec": {
   "display_name": "Python 3",
   "language": "python",
   "name": "python3"
  },
  "language_info": {
   "codemirror_mode": {
    "name": "ipython",
    "version": 3
   },
   "file_extension": ".py",
   "mimetype": "text/x-python",
   "name": "python",
   "nbconvert_exporter": "python",
   "pygments_lexer": "ipython3",
   "version": "3.7.10"
  }
 },
 "nbformat": 4,
 "nbformat_minor": 5
}
