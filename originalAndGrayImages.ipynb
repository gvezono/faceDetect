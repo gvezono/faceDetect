{
 "cells": [
  {
   "cell_type": "code",
   "execution_count": 1,
   "id": "alive-escape",
   "metadata": {},
   "outputs": [],
   "source": [
    "import cv2"
   ]
  },
  {
   "cell_type": "code",
   "execution_count": 2,
   "id": "signal-daughter",
   "metadata": {},
   "outputs": [
    {
     "name": "stdout",
     "output_type": "stream",
     "text": [
      "3.4.2\n"
     ]
    }
   ],
   "source": [
    "print(cv2.__version__)"
   ]
  },
  {
   "cell_type": "code",
   "execution_count": 3,
   "id": "current-shape",
   "metadata": {},
   "outputs": [],
   "source": [
    "image = cv2.imread('image/opencv-python.jpg')"
   ]
  },
  {
   "cell_type": "code",
   "execution_count": 4,
   "id": "cellular-albany",
   "metadata": {},
   "outputs": [],
   "source": [
    "grayImage = cv2.cvtColor(image, cv2.COLOR_BGR2GRAY)"
   ]
  },
  {
   "cell_type": "code",
   "execution_count": 5,
   "id": "atmospheric-hawaii",
   "metadata": {},
   "outputs": [],
   "source": [
    "cv2.imshow(\"Original\", image)\n",
    "cv2.imshow(\"Gray\", grayImage)\n",
    "cv2.waitKey(0)\n",
    "cv2.destroyAllWindows()"
   ]
  }
 ],
 "metadata": {
  "kernelspec": {
   "display_name": "Python 3",
   "language": "python",
   "name": "python3"
  },
  "language_info": {
   "codemirror_mode": {
    "name": "ipython",
    "version": 3
   },
   "file_extension": ".py",
   "mimetype": "text/x-python",
   "name": "python",
   "nbconvert_exporter": "python",
   "pygments_lexer": "ipython3",
   "version": "3.7.10"
  }
 },
 "nbformat": 4,
 "nbformat_minor": 5
}
