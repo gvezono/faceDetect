{
 "cells": [
  {
   "cell_type": "code",
   "execution_count": 1,
   "id": "identified-survivor",
   "metadata": {},
   "outputs": [],
   "source": [
    "import cv2"
   ]
  },
  {
   "cell_type": "code",
   "execution_count": 2,
   "id": "facial-likelihood",
   "metadata": {},
   "outputs": [],
   "source": [
    "classificadorRosto = cv2.CascadeClassifier('cascades\\\\haarcascade_frontalface_default.xml')\n",
    "classificadorOlhos = cv2.CascadeClassifier('cascades\\\\haarcascade_eye.xml')"
   ]
  },
  {
   "cell_type": "code",
   "execution_count": 3,
   "id": "julian-familiar",
   "metadata": {},
   "outputs": [],
   "source": [
    "imagem = cv2.imread('pessoas\\\\faceolho.jpg')\n",
    "imagemCinza = cv2.cvtColor(imagem, cv2.COLOR_BGR2GRAY)"
   ]
  },
  {
   "cell_type": "code",
   "execution_count": 5,
   "id": "cosmetic-award",
   "metadata": {},
   "outputs": [],
   "source": [
    "facesDetectadas = classificadorRosto.detectMultiScale(imagemCinza)"
   ]
  },
  {
   "cell_type": "code",
   "execution_count": 8,
   "id": "played-greece",
   "metadata": {},
   "outputs": [],
   "source": [
    "# No caso desse programa, a detecção dos olhos só ocorre depois que os rostos começam a ser destacados.\n",
    "# Todavia, a identificação dos olhos podem ser independentes também.\n",
    "# Além disso, é válido ressaltar que é sempre bom alterar nos 3 parâmetros citados em \"identidicarRosto.ipynb\" já que os olhos\n",
    "#tem dimensões diferentes dos rostos. Assim como os rostos tem dimensões diferentes para cada figura analisada\n",
    "\n",
    "for(x,y,l,a) in facesDetectadas:\n",
    "    imagem = cv2.rectangle(imagem, (x,y), (x+l,y+a), (0,0,255), 2)\n",
    "    regiaoOlhos = imagem[y:y+a, x:x+l]\n",
    "    regiaoOlhosCinza = cv2.cvtColor(regiaoOlhos, cv2.COLOR_BGR2GRAY)\n",
    "    olhosDetectados = classificadorOlhos.detectMultiScale(regiaoOlhosCinza)\n",
    "    for(ox,oy,ol,oa) in olhosDetectados:\n",
    "        cv2.rectangle(regiaoOlhos, (ox,oy), (ox+ol,oy+ol), (255,0,255), 2)"
   ]
  },
  {
   "cell_type": "code",
   "execution_count": 9,
   "id": "necessary-murray",
   "metadata": {},
   "outputs": [],
   "source": [
    "cv2.imshow(\"Faces e olhos detectados\", imagem)\n",
    "cv2.waitKey(0)\n",
    "cv2.destroyAllWindows()"
   ]
  }
 ],
 "metadata": {
  "kernelspec": {
   "display_name": "Python 3",
   "language": "python",
   "name": "python3"
  },
  "language_info": {
   "codemirror_mode": {
    "name": "ipython",
    "version": 3
   },
   "file_extension": ".py",
   "mimetype": "text/x-python",
   "name": "python",
   "nbconvert_exporter": "python",
   "pygments_lexer": "ipython3",
   "version": "3.7.10"
  }
 },
 "nbformat": 4,
 "nbformat_minor": 5
}
