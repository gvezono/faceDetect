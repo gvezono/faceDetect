{
 "cells": [
  {
   "cell_type": "code",
   "execution_count": 1,
   "id": "forbidden-philippines",
   "metadata": {},
   "outputs": [],
   "source": [
    "import cv2"
   ]
  },
  {
   "cell_type": "code",
   "execution_count": 2,
   "id": "approximate-symphony",
   "metadata": {},
   "outputs": [],
   "source": [
    "# DETERMINAR O CLASSIFICADOR DE FACES DE FRENTE\n",
    "\n",
    "classificador = cv2.CascadeClassifier('cascades\\\\haarcascade_frontalface_default.xml')"
   ]
  },
  {
   "cell_type": "code",
   "execution_count": 3,
   "id": "affected-monster",
   "metadata": {},
   "outputs": [],
   "source": [
    "# RECEBENDO A IMAGEM E TRANSFORMANDO ELA EM TONS DE CINZA\n",
    "\n",
    "imagem = cv2.imread('pessoas\\\\beatles.jpg')\n",
    "imagemCinza = cv2.cvtColor(imagem, cv2.COLOR_BGR2GRAY)"
   ]
  },
  {
   "cell_type": "code",
   "execution_count": 4,
   "id": "designed-source",
   "metadata": {},
   "outputs": [
    {
     "name": "stdout",
     "output_type": "stream",
     "text": [
      "Essa imagem contém um total de 4 faces detectadas\n"
     ]
    }
   ],
   "source": [
    "# CONTAR O NÚMERO DE FACES DETECTADAS NA IMAGEM 'beatles.jpg'\n",
    "\n",
    "# O classificador possui alguns parâmetros que podem ajudar a melhorar o resultado\n",
    "#  -ScaleFactor (o quão próximo a face está da câmera)\n",
    "#  -minNeighbors (aceitamento de detecções próximas uma das outras)\n",
    "#  -minSize (tamanho minimo da dimensão de face a ser detectada)\n",
    "\n",
    "facesDetectadas = classificador.detectMultiScale(imagemCinza)\n",
    "\n",
    "print(\"Essa imagem contém um total de\", len(facesDetectadas), \"faces detectadas\")"
   ]
  },
  {
   "cell_type": "code",
   "execution_count": 15,
   "id": "suspended-poland",
   "metadata": {},
   "outputs": [],
   "source": [
    "# PLOTAR A IMAGEM COM OS RETANGULOS DESTACANDOS AS FACES DETECTADAS\n",
    "\n",
    "for(x,y,largura,altura) in facesDetectadas:\n",
    "    cv2.rectangle(imagem, (x,y), (x+largura,y+altura), (0,0,255), 2)\n",
    "\n",
    "cv2.imshow(\"Faces detectadas\", imagem)\n",
    "cv2.waitKey(0)\n",
    "cv2.destroyAllWindows()"
   ]
  }
 ],
 "metadata": {
  "kernelspec": {
   "display_name": "Python 3",
   "language": "python",
   "name": "python3"
  },
  "language_info": {
   "codemirror_mode": {
    "name": "ipython",
    "version": 3
   },
   "file_extension": ".py",
   "mimetype": "text/x-python",
   "name": "python",
   "nbconvert_exporter": "python",
   "pygments_lexer": "ipython3",
   "version": "3.7.10"
  }
 },
 "nbformat": 4,
 "nbformat_minor": 5
}
